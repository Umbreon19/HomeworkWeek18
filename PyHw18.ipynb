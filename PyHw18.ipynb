{
 "cells": [
  {
   "cell_type": "code",
   "execution_count": 26,
   "metadata": {},
   "outputs": [
    {
     "name": "stdout",
     "output_type": "stream",
     "text": [
      "['Mercury', 'Venus', 'Earth', 'Mars', 'Jupiter', 'Saturn', 'Uranus', 'Neptune']\n",
      "Mercury 7 14\n",
      "Venus 5 10\n",
      "Earth 5 10\n",
      "Mars 4 8\n",
      "Jupiter 7 14\n",
      "Saturn 6 12\n",
      "Uranus 6 12\n",
      "Neptune 7 14\n"
     ]
    }
   ],
   "source": [
    "f = open(\"git/HwWeek18/planets.txt\", \"r\")\n",
    "txt=f.read()\n",
    "txt_list = txt.split()\n",
    "print(txt_list)\n",
    "for element in txt_list:\n",
    "    letters=len\n",
    "    print ((element), len(element), len(element)*2)\n",
    "f.close()"
   ]
  },
  {
   "cell_type": "code",
   "execution_count": null,
   "metadata": {},
   "outputs": [],
   "source": []
  },
  {
   "cell_type": "code",
   "execution_count": null,
   "metadata": {},
   "outputs": [],
   "source": []
  }
 ],
 "metadata": {
  "kernelspec": {
   "display_name": "Python 3",
   "language": "python",
   "name": "python3"
  },
  "language_info": {
   "codemirror_mode": {
    "name": "ipython",
    "version": 3
   },
   "file_extension": ".py",
   "mimetype": "text/x-python",
   "name": "python",
   "nbconvert_exporter": "python",
   "pygments_lexer": "ipython3",
   "version": "3.8.3"
  }
 },
 "nbformat": 4,
 "nbformat_minor": 4
}
